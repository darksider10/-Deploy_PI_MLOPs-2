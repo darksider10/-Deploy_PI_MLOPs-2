{
 "cells": [
  {
   "cell_type": "code",
   "execution_count": 1,
   "metadata": {},
   "outputs": [],
   "source": [
    "import pandas as pd"
   ]
  },
  {
   "cell_type": "code",
   "execution_count": 2,
   "metadata": {},
   "outputs": [],
   "source": [
    "siniestros = pd.read_csv(\"siniestros_viales.csv\")"
   ]
  },
  {
   "cell_type": "code",
   "execution_count": 50,
   "metadata": {},
   "outputs": [
    {
     "name": "stdout",
     "output_type": "stream",
     "text": [
      "<class 'pandas.core.frame.DataFrame'>\n",
      "RangeIndex: 717 entries, 0 to 716\n",
      "Data columns (total 28 columns):\n",
      " #   Column                 Non-Null Count  Dtype  \n",
      "---  ------                 --------------  -----  \n",
      " 0   Id                     717 non-null    object \n",
      " 1   Fecha                  717 non-null    object \n",
      " 2   Año                    717 non-null    int64  \n",
      " 3   Mes                    717 non-null    int64  \n",
      " 4   Dia                    717 non-null    int64  \n",
      " 5   Dia semana             717 non-null    object \n",
      " 6   Hora completa          717 non-null    object \n",
      " 7   Hora                   717 non-null    int64  \n",
      " 8   Num_victimas           717 non-null    int64  \n",
      " 9   Participantes          717 non-null    object \n",
      " 10  Rol                    717 non-null    object \n",
      " 11  Acusado                717 non-null    object \n",
      " 12  Victima                717 non-null    object \n",
      " 13  Sexo                   717 non-null    object \n",
      " 14  Edad                   717 non-null    int64  \n",
      " 15  Rango etario           717 non-null    object \n",
      " 16  Fecha fallecimiento    648 non-null    object \n",
      " 17  Lugar del hecho        717 non-null    object \n",
      " 18  Tipo de calle          717 non-null    object \n",
      " 19  Calle                  716 non-null    object \n",
      " 20  Cruce                  540 non-null    object \n",
      " 21  Dirección normalizada  708 non-null    object \n",
      " 22  Comuna                 717 non-null    object \n",
      " 23  Barrios                715 non-null    object \n",
      " 24  X caba                 717 non-null    object \n",
      " 25  Y caba                 717 non-null    object \n",
      " 26  Pos x                  704 non-null    float64\n",
      " 27  Pos y                  704 non-null    float64\n",
      "dtypes: float64(2), int64(6), object(20)\n",
      "memory usage: 157.0+ KB\n"
     ]
    }
   ],
   "source": [
    "siniestros.info()"
   ]
  },
  {
   "cell_type": "code",
   "execution_count": 4,
   "metadata": {},
   "outputs": [
    {
     "data": {
      "text/plain": [
       "0      2016-01-01\n",
       "1      2016-01-02\n",
       "2      2016-01-03\n",
       "3      2016-01-10\n",
       "4      2016-01-21\n",
       "          ...    \n",
       "712    2021-12-12\n",
       "713    2021-12-13\n",
       "714    2021-12-20\n",
       "715    2021-12-30\n",
       "716    2021-12-15\n",
       "Name: Fecha, Length: 717, dtype: object"
      ]
     },
     "execution_count": 4,
     "metadata": {},
     "output_type": "execute_result"
    }
   ],
   "source": [
    "siniestros[\"Fecha\"]"
   ]
  },
  {
   "cell_type": "code",
   "execution_count": 3,
   "metadata": {},
   "outputs": [
    {
     "data": {
      "text/plain": [
       "761"
      ]
     },
     "execution_count": 3,
     "metadata": {},
     "output_type": "execute_result"
    }
   ],
   "source": [
    "siniestros[\"Num_victimas\"].sum()"
   ]
  },
  {
   "cell_type": "code",
   "execution_count": 7,
   "metadata": {},
   "outputs": [
    {
     "data": {
      "text/html": [
       "<div>\n",
       "<style scoped>\n",
       "    .dataframe tbody tr th:only-of-type {\n",
       "        vertical-align: middle;\n",
       "    }\n",
       "\n",
       "    .dataframe tbody tr th {\n",
       "        vertical-align: top;\n",
       "    }\n",
       "\n",
       "    .dataframe thead th {\n",
       "        text-align: right;\n",
       "    }\n",
       "</style>\n",
       "<table border=\"1\" class=\"dataframe\">\n",
       "  <thead>\n",
       "    <tr style=\"text-align: right;\">\n",
       "      <th></th>\n",
       "      <th>index</th>\n",
       "      <th>Id</th>\n",
       "      <th>Fecha</th>\n",
       "      <th>Año</th>\n",
       "      <th>Mes</th>\n",
       "      <th>Dia</th>\n",
       "      <th>Dia semana</th>\n",
       "      <th>Hora completa</th>\n",
       "      <th>Hora</th>\n",
       "      <th>Num_victimas</th>\n",
       "      <th>...</th>\n",
       "      <th>Tipo de calle</th>\n",
       "      <th>Calle</th>\n",
       "      <th>Cruce</th>\n",
       "      <th>Dirección normalizada</th>\n",
       "      <th>Comuna</th>\n",
       "      <th>Barrios</th>\n",
       "      <th>X caba</th>\n",
       "      <th>Y caba</th>\n",
       "      <th>Pos x</th>\n",
       "      <th>Pos y</th>\n",
       "    </tr>\n",
       "  </thead>\n",
       "  <tbody>\n",
       "    <tr>\n",
       "      <th>0</th>\n",
       "      <td>675</td>\n",
       "      <td>2021-0056</td>\n",
       "      <td>2021-07-09</td>\n",
       "      <td>2021</td>\n",
       "      <td>7</td>\n",
       "      <td>9</td>\n",
       "      <td>Viernes</td>\n",
       "      <td>23:25:00</td>\n",
       "      <td>23</td>\n",
       "      <td>1</td>\n",
       "      <td>...</td>\n",
       "      <td>AVENIDA</td>\n",
       "      <td>CORRALES</td>\n",
       "      <td>MORENO, PERITO AV.</td>\n",
       "      <td>CORRALES y MORENO, PERITO AV.</td>\n",
       "      <td>Comuna 4</td>\n",
       "      <td>BARRACAS - BOCA - NUEVA POMPEYA - PARQUE PATRI...</td>\n",
       "      <td>103535.89012020</td>\n",
       "      <td>97690.49979847</td>\n",
       "      <td>-58.424730</td>\n",
       "      <td>-34.650083</td>\n",
       "    </tr>\n",
       "    <tr>\n",
       "      <th>1</th>\n",
       "      <td>676</td>\n",
       "      <td>2021-0057</td>\n",
       "      <td>2021-07-10</td>\n",
       "      <td>2021</td>\n",
       "      <td>7</td>\n",
       "      <td>10</td>\n",
       "      <td>Sabado</td>\n",
       "      <td>23:30:00</td>\n",
       "      <td>23</td>\n",
       "      <td>1</td>\n",
       "      <td>...</td>\n",
       "      <td>AUTOPISTA</td>\n",
       "      <td>AUTOPISTA ARTURO ILLIA</td>\n",
       "      <td>NaN</td>\n",
       "      <td>AUTOPISTA  ARTURO ILLIA (CABINA DE PEAJE)</td>\n",
       "      <td>Comuna 2</td>\n",
       "      <td>RECOLETA</td>\n",
       "      <td>106489.89755339</td>\n",
       "      <td>105947.16700228</td>\n",
       "      <td>-58.392570</td>\n",
       "      <td>-34.575640</td>\n",
       "    </tr>\n",
       "    <tr>\n",
       "      <th>2</th>\n",
       "      <td>677</td>\n",
       "      <td>2021-0058</td>\n",
       "      <td>2021-07-21</td>\n",
       "      <td>2021</td>\n",
       "      <td>7</td>\n",
       "      <td>21</td>\n",
       "      <td>Miercoles</td>\n",
       "      <td>00:40:00</td>\n",
       "      <td>0</td>\n",
       "      <td>1</td>\n",
       "      <td>...</td>\n",
       "      <td>GRAL PAZ</td>\n",
       "      <td>PAZ, GRAL. AV.</td>\n",
       "      <td>VEDIA</td>\n",
       "      <td>PAZ, GRAL. AV. y VEDIA</td>\n",
       "      <td>Comuna 12</td>\n",
       "      <td>COGHLAN - SAAVEDRA - VILLA PUEYRREDON - VILLA ...</td>\n",
       "      <td>97603.26759351</td>\n",
       "      <td>109241.33811464</td>\n",
       "      <td>-58.489410</td>\n",
       "      <td>-34.545962</td>\n",
       "    </tr>\n",
       "    <tr>\n",
       "      <th>3</th>\n",
       "      <td>678</td>\n",
       "      <td>2021-0059</td>\n",
       "      <td>2021-07-22</td>\n",
       "      <td>2021</td>\n",
       "      <td>7</td>\n",
       "      <td>22</td>\n",
       "      <td>Jueves</td>\n",
       "      <td>01:20:00</td>\n",
       "      <td>1</td>\n",
       "      <td>1</td>\n",
       "      <td>...</td>\n",
       "      <td>AVENIDA</td>\n",
       "      <td>GARAY, JUAN DE AV.</td>\n",
       "      <td>NaN</td>\n",
       "      <td>GARAY, JUAN DE AV. 2269</td>\n",
       "      <td>Comuna 3</td>\n",
       "      <td>BALVANERA - SAN CRISTOBAL</td>\n",
       "      <td>106134.00626590</td>\n",
       "      <td>100157.65420238</td>\n",
       "      <td>-58.396407</td>\n",
       "      <td>-34.627831</td>\n",
       "    </tr>\n",
       "    <tr>\n",
       "      <th>4</th>\n",
       "      <td>679</td>\n",
       "      <td>2021-0060</td>\n",
       "      <td>2021-07-22</td>\n",
       "      <td>2021</td>\n",
       "      <td>7</td>\n",
       "      <td>22</td>\n",
       "      <td>Jueves</td>\n",
       "      <td>12:30:00</td>\n",
       "      <td>12</td>\n",
       "      <td>1</td>\n",
       "      <td>...</td>\n",
       "      <td>AVENIDA</td>\n",
       "      <td>SALGUERO, JERONIMO</td>\n",
       "      <td>RIVADAVIA AV.</td>\n",
       "      <td>SALGUERO, JERONIMO y RIVADAVIA AV.</td>\n",
       "      <td>Comuna 5</td>\n",
       "      <td>ALMAGRO - BOEDO</td>\n",
       "      <td>103997.04813615</td>\n",
       "      <td>102012.34139150</td>\n",
       "      <td>-58.419720</td>\n",
       "      <td>-34.611122</td>\n",
       "    </tr>\n",
       "  </tbody>\n",
       "</table>\n",
       "<p>5 rows × 29 columns</p>\n",
       "</div>"
      ],
      "text/plain": [
       "   index         Id       Fecha   Año  Mes  Dia Dia semana Hora completa  \\\n",
       "0    675  2021-0056  2021-07-09  2021    7    9    Viernes      23:25:00   \n",
       "1    676  2021-0057  2021-07-10  2021    7   10     Sabado      23:30:00   \n",
       "2    677  2021-0058  2021-07-21  2021    7   21  Miercoles      00:40:00   \n",
       "3    678  2021-0059  2021-07-22  2021    7   22     Jueves      01:20:00   \n",
       "4    679  2021-0060  2021-07-22  2021    7   22     Jueves      12:30:00   \n",
       "\n",
       "   Hora  Num_victimas  ... Tipo de calle                   Calle  \\\n",
       "0    23             1  ...       AVENIDA                CORRALES   \n",
       "1    23             1  ...     AUTOPISTA  AUTOPISTA ARTURO ILLIA   \n",
       "2     0             1  ...      GRAL PAZ          PAZ, GRAL. AV.   \n",
       "3     1             1  ...       AVENIDA      GARAY, JUAN DE AV.   \n",
       "4    12             1  ...       AVENIDA      SALGUERO, JERONIMO   \n",
       "\n",
       "                Cruce                      Dirección normalizada     Comuna  \\\n",
       "0  MORENO, PERITO AV.              CORRALES y MORENO, PERITO AV.   Comuna 4   \n",
       "1                 NaN  AUTOPISTA  ARTURO ILLIA (CABINA DE PEAJE)   Comuna 2   \n",
       "2               VEDIA                     PAZ, GRAL. AV. y VEDIA  Comuna 12   \n",
       "3                 NaN                    GARAY, JUAN DE AV. 2269   Comuna 3   \n",
       "4       RIVADAVIA AV.         SALGUERO, JERONIMO y RIVADAVIA AV.   Comuna 5   \n",
       "\n",
       "                                             Barrios           X caba  \\\n",
       "0  BARRACAS - BOCA - NUEVA POMPEYA - PARQUE PATRI...  103535.89012020   \n",
       "1                                           RECOLETA  106489.89755339   \n",
       "2  COGHLAN - SAAVEDRA - VILLA PUEYRREDON - VILLA ...   97603.26759351   \n",
       "3                          BALVANERA - SAN CRISTOBAL  106134.00626590   \n",
       "4                                    ALMAGRO - BOEDO  103997.04813615   \n",
       "\n",
       "            Y caba      Pos x      Pos y  \n",
       "0   97690.49979847 -58.424730 -34.650083  \n",
       "1  105947.16700228 -58.392570 -34.575640  \n",
       "2  109241.33811464 -58.489410 -34.545962  \n",
       "3  100157.65420238 -58.396407 -34.627831  \n",
       "4  102012.34139150 -58.419720 -34.611122  \n",
       "\n",
       "[5 rows x 29 columns]"
      ]
     },
     "execution_count": 7,
     "metadata": {},
     "output_type": "execute_result"
    }
   ],
   "source": [
    "# Filtro para los últimos seis meses y el semestre anterior\n",
    "ultimo_semestre = siniestros[(siniestros['Fecha'] >= '2021-07-01') & (siniestros['Fecha'] <= '2021-12-31')].reset_index()\n",
    "semestre_anterior = siniestros[(siniestros['Fecha'] >= '2021-01-01') & (siniestros['Fecha'] <= '2021-06-30')].reset_index()\n",
    "\n",
    "ultimo_semestre.head()"
   ]
  },
  {
   "cell_type": "code",
   "execution_count": 8,
   "metadata": {},
   "outputs": [],
   "source": [
    "homicidios_ultimo_semestre = ultimo_semestre[ultimo_semestre['Num_victimas'] > 0]['Num_victimas'].sum()\n",
    "homicidios_semestre_anterior = semestre_anterior[semestre_anterior['Num_victimas'] > 0]['Num_victimas'].sum()"
   ]
  },
  {
   "cell_type": "code",
   "execution_count": 10,
   "metadata": {},
   "outputs": [
    {
     "name": "stdout",
     "output_type": "stream",
     "text": [
      "Tasa de homicidios en siniestros viales del último semestre: 1.36\n",
      "Tasa de homicidios en siniestros viales del semestre anterior: 1.79\n",
      "Reducción esperada: 10%\n",
      "Reducción real: 24.02%\n"
     ]
    }
   ],
   "source": [
    "\n",
    "\n",
    "# Obtener la población total\n",
    "poblacion_total = 3078836  # Este valor debería ser obtenido del censo nacional\n",
    "\n",
    "# Calcular la tasa de homicidios en siniestros viales\n",
    "tasa_homicidios_ultimo_semestre = round((homicidios_ultimo_semestre / poblacion_total) * 100000,2)\n",
    "tasa_homicidios_semestre_anterior = round((homicidios_semestre_anterior / poblacion_total) * 100000,2)\n",
    "\n",
    "# Comparar y reducir en un 10%\n",
    "reduccion_tasa_homicidios = round((tasa_homicidios_semestre_anterior - tasa_homicidios_ultimo_semestre) / tasa_homicidios_semestre_anterior * 100,2)\n",
    "objetivo_reduccion = 10\n",
    "\n",
    "print(f'Tasa de homicidios en siniestros viales del último semestre: {tasa_homicidios_ultimo_semestre}')\n",
    "print(f'Tasa de homicidios en siniestros viales del semestre anterior: {tasa_homicidios_semestre_anterior}')\n",
    "print(f'Reducción esperada: {objetivo_reduccion}%')\n",
    "print(f'Reducción real: {reduccion_tasa_homicidios}%')"
   ]
  },
  {
   "cell_type": "code",
   "execution_count": 6,
   "metadata": {},
   "outputs": [
    {
     "name": "stdout",
     "output_type": "stream",
     "text": [
      "Accidentes mortales de MOTOciclistas en el último año: 46\n",
      "Accidentes mortales de MOTOciclistas en el año anterior: 30\n",
      "Reducción esperada: 7%\n",
      "Reducción real: -53.33%\n"
     ]
    }
   ],
   "source": [
    "# Filtro para el último año y el año anterior\n",
    "ultimo_año = siniestros[(siniestros['Fecha'] >= '2021-01-01') & (siniestros['Fecha'] <= '2021-12-31')]\n",
    "año_anterior = siniestros[(siniestros['Fecha'] >= '2020-01-01') & (siniestros['Fecha'] <= '2020-12-31')]\n",
    "\n",
    "# Calcular la cantidad de accidentes mortales de MOTOciclistas en ambos años\n",
    "accidentes_ultimo_año = ultimo_año[ultimo_año['Victima'] == 'MOTO']['Num_victimas'].sum()\n",
    "accidentes_año_anterior = año_anterior[año_anterior['Victima'] == 'MOTO']['Num_victimas'].sum()\n",
    "\n",
    "# Calcular la evolución de los accidentes mortales con víctimas en MOTO\n",
    "evolucion_accidentes_moto = round((accidentes_año_anterior - accidentes_ultimo_año) / accidentes_año_anterior * 100,2)\n",
    "objetivo_reduccion_accidentes = 7\n",
    "\n",
    "print(f'Accidentes mortales de MOTOciclistas en el último año: {accidentes_ultimo_año}')\n",
    "print(f'Accidentes mortales de MOTOciclistas en el año anterior: {accidentes_año_anterior}')\n",
    "print(f'Reducción esperada: {objetivo_reduccion_accidentes}%')\n",
    "print(f'Reducción real: {evolucion_accidentes_moto}%')"
   ]
  },
  {
   "cell_type": "code",
   "execution_count": 11,
   "metadata": {},
   "outputs": [],
   "source": [
    "# Guardar los resultados de la tasa de homicidios en siniestros viales en un archivo CSV\n",
    "df_resultados_homicidios = pd.DataFrame({\n",
    "    'Tasa_Homicidios_Ultimo_Semestre': [tasa_homicidios_ultimo_semestre],\n",
    "    'Tasa_Homicidios_Semestre_Anterior': [tasa_homicidios_semestre_anterior],\n",
    "    'Reduccion_Tasa_Homicidios': [reduccion_tasa_homicidios],\n",
    "    'Objetivo_Reduccion': [objetivo_reduccion]\n",
    "})\n",
    "\n",
    "df_resultados_homicidios.to_csv('KPI1.csv', index=False)\n",
    "\n",
    "# Guardar los resultados de la cantidad de accidentes mortales de motociclistas en un archivo CSV\n",
    "df_resultados_accidentes_moto = pd.DataFrame({\n",
    "    'Accidentes_Mortales_Moto_Ultimo_Anio': [accidentes_ultimo_año],\n",
    "    'Accidentes_Mortales_Moto_Anio_Anterior': [accidentes_año_anterior],\n",
    "    'Evolucion_Accidentes_Moto': [evolucion_accidentes_moto],\n",
    "    'Objetivo_Reduccion_Accidentes': [objetivo_reduccion_accidentes]\n",
    "})\n",
    "\n",
    "df_resultados_accidentes_moto.to_csv('KPI2.csv', index=False)"
   ]
  }
 ],
 "metadata": {
  "kernelspec": {
   "display_name": "Python 3",
   "language": "python",
   "name": "python3"
  },
  "language_info": {
   "codemirror_mode": {
    "name": "ipython",
    "version": 3
   },
   "file_extension": ".py",
   "mimetype": "text/x-python",
   "name": "python",
   "nbconvert_exporter": "python",
   "pygments_lexer": "ipython3",
   "version": "3.11.4"
  }
 },
 "nbformat": 4,
 "nbformat_minor": 2
}
